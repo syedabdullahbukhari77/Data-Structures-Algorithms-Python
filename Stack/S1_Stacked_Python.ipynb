{
  "nbformat": 4,
  "nbformat_minor": 0,
  "metadata": {
    "colab": {
      "provenance": []
    },
    "kernelspec": {
      "name": "python3",
      "display_name": "Python 3"
    },
    "language_info": {
      "name": "python"
    }
  },
  "cells": [
    {
      "cell_type": "code",
      "execution_count": 4,
      "metadata": {
        "id": "scionqiNLfUT"
      },
      "outputs": [],
      "source": [
        "class Node:\n",
        "  def __init__(self,value):\n",
        "    self.data = value\n",
        "    self.next = None"
      ]
    },
    {
      "cell_type": "code",
      "source": [
        "class Node:\n",
        "    def __init__(self, data):\n",
        "        self.data = data\n",
        "        self.next = None\n",
        "\n",
        "class Stack:\n",
        "    def __init__(self):\n",
        "        self.top = None\n",
        "\n",
        "    def is_empty(self):\n",
        "        return self.top is None\n",
        "\n",
        "    def push(self, value):\n",
        "        new_node = Node(value)\n",
        "        new_node.next = self.top\n",
        "        self.top = new_node\n",
        "\n",
        "    def peek(self):\n",
        "        if self.is_empty():\n",
        "            return 'Stack Empty'\n",
        "        return self.top.data\n",
        "\n",
        "    def pop(self):\n",
        "        if self.is_empty():\n",
        "            return 'Stack Empty'\n",
        "        else:\n",
        "            data = self.top.data\n",
        "            self.top = self.top.next  # ❌ Fix: Use assignment (=), not comparison (==)\n",
        "            return data\n",
        "    def traverse(self):\n",
        "        temp = self.top\n",
        "        while temp:\n",
        "            print(temp.data)\n",
        "            temp = temp.next\n"
      ],
      "metadata": {
        "id": "Fd2sQw4YLk1e"
      },
      "execution_count": 48,
      "outputs": []
    },
    {
      "cell_type": "code",
      "source": [
        "def reverse_string(text):\n",
        "    s = Stack()\n",
        "\n",
        "    for i in text:\n",
        "        s.push(i)\n",
        "\n",
        "    res = \"\"\n",
        "\n",
        "    while not s.is_empty():  # ✅ Use `is_empty()` instead of `isempty()`\n",
        "        res += s.pop()\n",
        "\n",
        "    print(res)\n"
      ],
      "metadata": {
        "id": "bb8dHVcJLmRC"
      },
      "execution_count": 49,
      "outputs": []
    },
    {
      "cell_type": "code",
      "source": [
        "def text_editor(text, pattern):\n",
        "    u = Stack()\n",
        "    r = Stack()\n",
        "\n",
        "    for i in text:\n",
        "        u.push(i)\n",
        "\n",
        "    for i in pattern:\n",
        "        if not u.is_empty() and i == u.peek():\n",
        "            data = u.pop()\n",
        "            r.push(data)  # ✅ Store removed character in redo stack\n",
        "        else:\n",
        "            if not r.is_empty():  # ✅ Check redo stack before popping\n",
        "                data = r.pop()\n",
        "                u.push(data)  # ✅ Restore character from redo stack\n",
        "\n",
        "    res = \"\"\n",
        "    while not u.is_empty():\n",
        "        res = u.pop() + res  # ✅ Rebuild string in correct order\n",
        "\n",
        "    return res\n"
      ],
      "metadata": {
        "id": "DEXt7fDJLpl5"
      },
      "execution_count": 50,
      "outputs": []
    },
    {
      "cell_type": "code",
      "source": [
        "text_editor('america' , 'shut')"
      ],
      "metadata": {
        "colab": {
          "base_uri": "https://localhost:8080/",
          "height": 35
        },
        "id": "azohncHhPXSY",
        "outputId": "653e7cf4-37fb-440d-9097-00e59c309467"
      },
      "execution_count": 51,
      "outputs": [
        {
          "output_type": "execute_result",
          "data": {
            "text/plain": [
              "'america'"
            ],
            "application/vnd.google.colaboratory.intrinsic+json": {
              "type": "string"
            }
          },
          "metadata": {},
          "execution_count": 51
        }
      ]
    },
    {
      "cell_type": "code",
      "source": [
        "s = Stack()"
      ],
      "metadata": {
        "id": "_eDr87U3LtrK"
      },
      "execution_count": 52,
      "outputs": []
    },
    {
      "cell_type": "code",
      "source": [
        "s.is_empty()"
      ],
      "metadata": {
        "colab": {
          "base_uri": "https://localhost:8080/"
        },
        "id": "8itEwN69LvnJ",
        "outputId": "c8eaa31e-c3e7-4408-e642-5983baedc21b"
      },
      "execution_count": 53,
      "outputs": [
        {
          "output_type": "execute_result",
          "data": {
            "text/plain": [
              "True"
            ]
          },
          "metadata": {},
          "execution_count": 53
        }
      ]
    },
    {
      "cell_type": "code",
      "source": [
        "reverse_string('hello')"
      ],
      "metadata": {
        "colab": {
          "base_uri": "https://localhost:8080/"
        },
        "id": "JZVFp_cDLrg-",
        "outputId": "f6bee1d9-072e-4d4d-b67e-64fd4f0a3220"
      },
      "execution_count": 54,
      "outputs": [
        {
          "output_type": "stream",
          "name": "stdout",
          "text": [
            "olleh\n"
          ]
        }
      ]
    },
    {
      "cell_type": "code",
      "source": [
        "s.peek()"
      ],
      "metadata": {
        "colab": {
          "base_uri": "https://localhost:8080/",
          "height": 35
        },
        "id": "-fyU5ELEL1Wh",
        "outputId": "e84f389e-c978-4508-9072-5cf1aaaab6d5"
      },
      "execution_count": 11,
      "outputs": [
        {
          "output_type": "execute_result",
          "data": {
            "text/plain": [
              "'Stack Empty'"
            ],
            "application/vnd.google.colaboratory.intrinsic+json": {
              "type": "string"
            }
          },
          "metadata": {},
          "execution_count": 11
        }
      ]
    },
    {
      "cell_type": "code",
      "source": [
        "s.pop()"
      ],
      "metadata": {
        "colab": {
          "base_uri": "https://localhost:8080/",
          "height": 35
        },
        "id": "XIA39lHAL3Vx",
        "outputId": "3c38af68-e1a9-49cf-a52e-4a40068b37b7"
      },
      "execution_count": 12,
      "outputs": [
        {
          "output_type": "execute_result",
          "data": {
            "text/plain": [
              "'Stack Empty'"
            ],
            "application/vnd.google.colaboratory.intrinsic+json": {
              "type": "string"
            }
          },
          "metadata": {},
          "execution_count": 12
        }
      ]
    },
    {
      "cell_type": "code",
      "source": [
        "s.traverse()"
      ],
      "metadata": {
        "id": "6fP69M2rLx5h"
      },
      "execution_count": 13,
      "outputs": []
    }
  ]
}